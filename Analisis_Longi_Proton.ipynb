{
 "cells": [
  {
   "cell_type": "markdown",
   "metadata": {},
   "source": [
    "## Análisis de lluvias monocromaticas de Proton\n",
    "\n",
    "El set de simulaciones esta compuesto por 1000 lluvias verticales de Proton de 10GeV, 100GeV y 1000GeV."
   ]
  },
  {
   "cell_type": "code",
   "execution_count": 1,
   "metadata": {},
   "outputs": [],
   "source": [
    "import pandas as pd\n",
    "import numpy as np\n",
    "import matplotlib.pyplot as plt\n",
    "plt.style.use('seaborn-whitegrid')\n",
    "import seaborn as sns\n",
    "from scipy.stats import norm\n",
    "from sklearn.preprocessing import StandardScaler\n",
    "import pylab\n",
    "import os"
   ]
  },
  {
   "cell_type": "code",
   "execution_count": 2,
   "metadata": {},
   "outputs": [
    {
     "data": {
      "text/plain": [
       "'/home/csarmiento/Documentos/rpc-wcd'"
      ]
     },
     "execution_count": 2,
     "metadata": {},
     "output_type": "execute_result"
    }
   ],
   "source": [
    "#A partir de aquí python sabe en que carpeta se encuentran los datos\n",
    "os.chdir(\"/home/csarmiento/Documentos/rpc-wcd/\")\n",
    "os.getcwd()"
   ]
  },
  {
   "cell_type": "markdown",
   "metadata": {},
   "source": [
    "#### observables de los primarios"
   ]
  },
  {
   "cell_type": "code",
   "execution_count": 3,
   "metadata": {},
   "outputs": [
    {
     "data": {
      "text/html": [
       "<div>\n",
       "<style scoped>\n",
       "    .dataframe tbody tr th:only-of-type {\n",
       "        vertical-align: middle;\n",
       "    }\n",
       "\n",
       "    .dataframe tbody tr th {\n",
       "        vertical-align: top;\n",
       "    }\n",
       "\n",
       "    .dataframe thead th {\n",
       "        text-align: right;\n",
       "    }\n",
       "</style>\n",
       "<table border=\"1\" class=\"dataframe\">\n",
       "  <thead>\n",
       "    <tr style=\"text-align: right;\">\n",
       "      <th></th>\n",
       "      <th>prm_Crk_id</th>\n",
       "      <th>prm_energy</th>\n",
       "      <th>prm_x0</th>\n",
       "      <th>prm_theta</th>\n",
       "      <th>prm_phi</th>\n",
       "      <th>ph_obs_lev</th>\n",
       "      <th>el_obs_lev</th>\n",
       "      <th>hd_obs_lev</th>\n",
       "      <th>mu_obs_lev</th>\n",
       "      <th>tot_obs_lev</th>\n",
       "    </tr>\n",
       "  </thead>\n",
       "  <tbody>\n",
       "    <tr>\n",
       "      <th>0</th>\n",
       "      <td>14</td>\n",
       "      <td>10.0</td>\n",
       "      <td>-16.9521</td>\n",
       "      <td>0.0</td>\n",
       "      <td>0.0</td>\n",
       "      <td>1.0</td>\n",
       "      <td>0.0</td>\n",
       "      <td>0.0</td>\n",
       "      <td>0.0</td>\n",
       "      <td>1.0</td>\n",
       "    </tr>\n",
       "    <tr>\n",
       "      <th>1</th>\n",
       "      <td>14</td>\n",
       "      <td>10.0</td>\n",
       "      <td>-25.5748</td>\n",
       "      <td>0.0</td>\n",
       "      <td>0.0</td>\n",
       "      <td>0.0</td>\n",
       "      <td>0.0</td>\n",
       "      <td>0.0</td>\n",
       "      <td>0.0</td>\n",
       "      <td>0.0</td>\n",
       "    </tr>\n",
       "    <tr>\n",
       "      <th>2</th>\n",
       "      <td>14</td>\n",
       "      <td>10.0</td>\n",
       "      <td>-17.0986</td>\n",
       "      <td>0.0</td>\n",
       "      <td>0.0</td>\n",
       "      <td>0.0</td>\n",
       "      <td>0.0</td>\n",
       "      <td>1.0</td>\n",
       "      <td>0.0</td>\n",
       "      <td>1.0</td>\n",
       "    </tr>\n",
       "    <tr>\n",
       "      <th>3</th>\n",
       "      <td>14</td>\n",
       "      <td>10.0</td>\n",
       "      <td>-28.4414</td>\n",
       "      <td>0.0</td>\n",
       "      <td>0.0</td>\n",
       "      <td>0.0</td>\n",
       "      <td>0.0</td>\n",
       "      <td>1.0</td>\n",
       "      <td>1.0</td>\n",
       "      <td>2.0</td>\n",
       "    </tr>\n",
       "    <tr>\n",
       "      <th>4</th>\n",
       "      <td>14</td>\n",
       "      <td>10.0</td>\n",
       "      <td>-22.6756</td>\n",
       "      <td>0.0</td>\n",
       "      <td>0.0</td>\n",
       "      <td>0.0</td>\n",
       "      <td>0.0</td>\n",
       "      <td>0.0</td>\n",
       "      <td>0.0</td>\n",
       "      <td>0.0</td>\n",
       "    </tr>\n",
       "  </tbody>\n",
       "</table>\n",
       "</div>"
      ],
      "text/plain": [
       "   prm_Crk_id  prm_energy   prm_x0  prm_theta  prm_phi  ph_obs_lev  \\\n",
       "0          14        10.0 -16.9521        0.0      0.0         1.0   \n",
       "1          14        10.0 -25.5748        0.0      0.0         0.0   \n",
       "2          14        10.0 -17.0986        0.0      0.0         0.0   \n",
       "3          14        10.0 -28.4414        0.0      0.0         0.0   \n",
       "4          14        10.0 -22.6756        0.0      0.0         0.0   \n",
       "\n",
       "   el_obs_lev  hd_obs_lev  mu_obs_lev  tot_obs_lev  \n",
       "0         0.0         0.0         0.0          1.0  \n",
       "1         0.0         0.0         0.0          0.0  \n",
       "2         0.0         1.0         0.0          1.0  \n",
       "3         0.0         1.0         1.0          2.0  \n",
       "4         0.0         0.0         0.0          0.0  "
      ]
     },
     "execution_count": 3,
     "metadata": {},
     "output_type": "execute_result"
    }
   ],
   "source": [
    "# 10 GeV\n",
    "#\n",
    "df10= pd.read_csv(r\"rbm_10GeV_P/901000.pri\", delimiter=\" \")\n",
    "df10.head()"
   ]
  },
  {
   "cell_type": "code",
   "execution_count": 4,
   "metadata": {},
   "outputs": [
    {
     "data": {
      "text/html": [
       "<div>\n",
       "<style scoped>\n",
       "    .dataframe tbody tr th:only-of-type {\n",
       "        vertical-align: middle;\n",
       "    }\n",
       "\n",
       "    .dataframe tbody tr th {\n",
       "        vertical-align: top;\n",
       "    }\n",
       "\n",
       "    .dataframe thead th {\n",
       "        text-align: right;\n",
       "    }\n",
       "</style>\n",
       "<table border=\"1\" class=\"dataframe\">\n",
       "  <thead>\n",
       "    <tr style=\"text-align: right;\">\n",
       "      <th></th>\n",
       "      <th>prm_Crk_id</th>\n",
       "      <th>prm_energy</th>\n",
       "      <th>prm_x0</th>\n",
       "      <th>prm_theta</th>\n",
       "      <th>prm_phi</th>\n",
       "      <th>ph_obs_lev</th>\n",
       "      <th>el_obs_lev</th>\n",
       "      <th>hd_obs_lev</th>\n",
       "      <th>mu_obs_lev</th>\n",
       "      <th>tot_obs_lev</th>\n",
       "    </tr>\n",
       "  </thead>\n",
       "  <tbody>\n",
       "    <tr>\n",
       "      <th>0</th>\n",
       "      <td>14</td>\n",
       "      <td>100.0</td>\n",
       "      <td>-12.2310</td>\n",
       "      <td>0.0</td>\n",
       "      <td>0.0</td>\n",
       "      <td>111.0</td>\n",
       "      <td>15.0</td>\n",
       "      <td>6.0</td>\n",
       "      <td>4.0</td>\n",
       "      <td>136.0</td>\n",
       "    </tr>\n",
       "    <tr>\n",
       "      <th>1</th>\n",
       "      <td>14</td>\n",
       "      <td>100.0</td>\n",
       "      <td>-20.3995</td>\n",
       "      <td>0.0</td>\n",
       "      <td>0.0</td>\n",
       "      <td>91.0</td>\n",
       "      <td>1.0</td>\n",
       "      <td>1.0</td>\n",
       "      <td>4.0</td>\n",
       "      <td>97.0</td>\n",
       "    </tr>\n",
       "    <tr>\n",
       "      <th>2</th>\n",
       "      <td>14</td>\n",
       "      <td>100.0</td>\n",
       "      <td>-31.0161</td>\n",
       "      <td>0.0</td>\n",
       "      <td>0.0</td>\n",
       "      <td>17.0</td>\n",
       "      <td>0.0</td>\n",
       "      <td>1.0</td>\n",
       "      <td>4.0</td>\n",
       "      <td>22.0</td>\n",
       "    </tr>\n",
       "    <tr>\n",
       "      <th>3</th>\n",
       "      <td>14</td>\n",
       "      <td>100.0</td>\n",
       "      <td>-32.8717</td>\n",
       "      <td>0.0</td>\n",
       "      <td>0.0</td>\n",
       "      <td>154.0</td>\n",
       "      <td>20.0</td>\n",
       "      <td>2.0</td>\n",
       "      <td>10.0</td>\n",
       "      <td>186.0</td>\n",
       "    </tr>\n",
       "    <tr>\n",
       "      <th>4</th>\n",
       "      <td>14</td>\n",
       "      <td>100.0</td>\n",
       "      <td>-22.1942</td>\n",
       "      <td>0.0</td>\n",
       "      <td>0.0</td>\n",
       "      <td>22.0</td>\n",
       "      <td>0.0</td>\n",
       "      <td>0.0</td>\n",
       "      <td>3.0</td>\n",
       "      <td>25.0</td>\n",
       "    </tr>\n",
       "  </tbody>\n",
       "</table>\n",
       "</div>"
      ],
      "text/plain": [
       "   prm_Crk_id  prm_energy   prm_x0  prm_theta  prm_phi  ph_obs_lev  \\\n",
       "0          14       100.0 -12.2310        0.0      0.0       111.0   \n",
       "1          14       100.0 -20.3995        0.0      0.0        91.0   \n",
       "2          14       100.0 -31.0161        0.0      0.0        17.0   \n",
       "3          14       100.0 -32.8717        0.0      0.0       154.0   \n",
       "4          14       100.0 -22.1942        0.0      0.0        22.0   \n",
       "\n",
       "   el_obs_lev  hd_obs_lev  mu_obs_lev  tot_obs_lev  \n",
       "0        15.0         6.0         4.0        136.0  \n",
       "1         1.0         1.0         4.0         97.0  \n",
       "2         0.0         1.0         4.0         22.0  \n",
       "3        20.0         2.0        10.0        186.0  \n",
       "4         0.0         0.0         3.0         25.0  "
      ]
     },
     "execution_count": 4,
     "metadata": {},
     "output_type": "execute_result"
    }
   ],
   "source": [
    "# 100 GeV\n",
    "#\n",
    "df100= pd.read_csv(r\"rbm_100GeV_P/910000.pri\", delimiter=\" \")\n",
    "df100.head()"
   ]
  },
  {
   "cell_type": "code",
   "execution_count": 5,
   "metadata": {},
   "outputs": [
    {
     "data": {
      "text/html": [
       "<div>\n",
       "<style scoped>\n",
       "    .dataframe tbody tr th:only-of-type {\n",
       "        vertical-align: middle;\n",
       "    }\n",
       "\n",
       "    .dataframe tbody tr th {\n",
       "        vertical-align: top;\n",
       "    }\n",
       "\n",
       "    .dataframe thead th {\n",
       "        text-align: right;\n",
       "    }\n",
       "</style>\n",
       "<table border=\"1\" class=\"dataframe\">\n",
       "  <thead>\n",
       "    <tr style=\"text-align: right;\">\n",
       "      <th></th>\n",
       "      <th>prm_Crk_id</th>\n",
       "      <th>prm_energy</th>\n",
       "      <th>prm_x0</th>\n",
       "      <th>prm_theta</th>\n",
       "      <th>prm_phi</th>\n",
       "      <th>ph_obs_lev</th>\n",
       "      <th>el_obs_lev</th>\n",
       "      <th>hd_obs_lev</th>\n",
       "      <th>mu_obs_lev</th>\n",
       "      <th>tot_obs_lev</th>\n",
       "    </tr>\n",
       "  </thead>\n",
       "  <tbody>\n",
       "    <tr>\n",
       "      <th>0</th>\n",
       "      <td>14</td>\n",
       "      <td>1000.0</td>\n",
       "      <td>-18.8599</td>\n",
       "      <td>0.0</td>\n",
       "      <td>0.0</td>\n",
       "      <td>3424.0</td>\n",
       "      <td>381.0</td>\n",
       "      <td>13.0</td>\n",
       "      <td>21.0</td>\n",
       "      <td>3839.0</td>\n",
       "    </tr>\n",
       "    <tr>\n",
       "      <th>1</th>\n",
       "      <td>14</td>\n",
       "      <td>1000.0</td>\n",
       "      <td>-17.6363</td>\n",
       "      <td>0.0</td>\n",
       "      <td>0.0</td>\n",
       "      <td>923.0</td>\n",
       "      <td>113.0</td>\n",
       "      <td>3.0</td>\n",
       "      <td>25.0</td>\n",
       "      <td>1064.0</td>\n",
       "    </tr>\n",
       "    <tr>\n",
       "      <th>2</th>\n",
       "      <td>14</td>\n",
       "      <td>1000.0</td>\n",
       "      <td>-32.5641</td>\n",
       "      <td>0.0</td>\n",
       "      <td>0.0</td>\n",
       "      <td>280.0</td>\n",
       "      <td>31.0</td>\n",
       "      <td>5.0</td>\n",
       "      <td>17.0</td>\n",
       "      <td>333.0</td>\n",
       "    </tr>\n",
       "    <tr>\n",
       "      <th>3</th>\n",
       "      <td>14</td>\n",
       "      <td>1000.0</td>\n",
       "      <td>-33.8627</td>\n",
       "      <td>0.0</td>\n",
       "      <td>0.0</td>\n",
       "      <td>298.0</td>\n",
       "      <td>27.0</td>\n",
       "      <td>0.0</td>\n",
       "      <td>13.0</td>\n",
       "      <td>338.0</td>\n",
       "    </tr>\n",
       "    <tr>\n",
       "      <th>4</th>\n",
       "      <td>14</td>\n",
       "      <td>1000.0</td>\n",
       "      <td>-28.2819</td>\n",
       "      <td>0.0</td>\n",
       "      <td>0.0</td>\n",
       "      <td>714.0</td>\n",
       "      <td>76.0</td>\n",
       "      <td>6.0</td>\n",
       "      <td>21.0</td>\n",
       "      <td>817.0</td>\n",
       "    </tr>\n",
       "  </tbody>\n",
       "</table>\n",
       "</div>"
      ],
      "text/plain": [
       "   prm_Crk_id  prm_energy   prm_x0  prm_theta  prm_phi  ph_obs_lev  \\\n",
       "0          14      1000.0 -18.8599        0.0      0.0      3424.0   \n",
       "1          14      1000.0 -17.6363        0.0      0.0       923.0   \n",
       "2          14      1000.0 -32.5641        0.0      0.0       280.0   \n",
       "3          14      1000.0 -33.8627        0.0      0.0       298.0   \n",
       "4          14      1000.0 -28.2819        0.0      0.0       714.0   \n",
       "\n",
       "   el_obs_lev  hd_obs_lev  mu_obs_lev  tot_obs_lev  \n",
       "0       381.0        13.0        21.0       3839.0  \n",
       "1       113.0         3.0        25.0       1064.0  \n",
       "2        31.0         5.0        17.0        333.0  \n",
       "3        27.0         0.0        13.0        338.0  \n",
       "4        76.0         6.0        21.0        817.0  "
      ]
     },
     "execution_count": 5,
     "metadata": {},
     "output_type": "execute_result"
    }
   ],
   "source": [
    "# 1000 GeV\n",
    "#\n",
    "df1000= pd.read_csv(r\"rbm_1000GeV_P/999900.pri\", delimiter=\" \")\n",
    "df1000.head()"
   ]
  },
  {
   "cell_type": "markdown",
   "metadata": {},
   "source": [
    "#### Punto de primera interacción\n",
    "\n",
    "En estas graficas se muestran los histogramas para 1000 lluvias de Proton.\n",
    "\n",
    "Como se puede ver los primarios con E=10GeV no logran penetrar la atmosfera sin interactuar hasta el punto\n",
    "de observación. Ubicado a 5100 m s.n.m. De otra parte Algunos primarios de 100 GeV y 1000 GeV llegan al piso\n",
    "sin interactuar."
   ]
  },
  {
   "cell_type": "code",
   "execution_count": 6,
   "metadata": {},
   "outputs": [
    {
     "data": {
      "image/png": "[encoded data removed]",
      "text/plain": [
       "<Figure size 720x576 with 1 Axes>"
      ]
     },
     "metadata": {
      "needs_background": "light"
     },
     "output_type": "display_data"
    }
   ],
   "source": [
    "plt.rcParams.update({'font.size': 14})\n",
    "plt.figure(figsize=(10,8))\n",
    "plt.hist(-df10[\"prm_x0\"], bins=25, histtype='step', color=\"r\", linewidth=2, fill=False, label=\"10 GeV\");\n",
    "plt.hist(-df100[\"prm_x0\"], bins=25, histtype='step', color=\"g\", linewidth=2, fill=False, label=\"100 GeV\");\n",
    "plt.hist(-df1000[\"prm_x0\"], bins=25, histtype='step', color=\"b\", linewidth=2, fill=False, label=\"1000 GeV\");\n",
    "plt.title(\"Punto de primera interacción\")\n",
    "plt.xlabel(r\"X$_{\\circ}$, km\")\n",
    "plt.legend()\n",
    "plt.show()"
   ]
  },
  {
   "cell_type": "markdown",
   "metadata": {},
   "source": [
    "La siguiente figura muestra un zoom enla zona entre 4 km y 20 km."
   ]
  },
  {
   "cell_type": "code",
   "execution_count": 7,
   "metadata": {},
   "outputs": [
    {
     "data": {
      "image/png": "[encoded data removed]",
      "text/plain": [
       "<Figure size 720x576 with 1 Axes>"
      ]
     },
     "metadata": {
      "needs_background": "light"
     },
     "output_type": "display_data"
    }
   ],
   "source": [
    "plt.rcParams.update({'font.size': 14})\n",
    "plt.figure(figsize=(10,8))\n",
    "plt.hist(-df10[\"prm_x0\"], bins=25, histtype='step', color=\"r\", linewidth=2, fill=False, label=\"10 GeV\");\n",
    "plt.hist(-df100[\"prm_x0\"], bins=25, histtype='step', color=\"g\", linewidth=2, fill=False, label=\"100 GeV\");\n",
    "plt.hist(-df1000[\"prm_x0\"], bins=25, histtype='step', color=\"b\", linewidth=2, fill=False, label=\"1000 GeV\");\n",
    "plt.title(\"Punto de primera interacción\")\n",
    "plt.xlabel(r\"X$_{\\circ}$, km\")\n",
    "plt.xlim(4, 20)\n",
    "plt.legend()\n",
    "plt.show()"
   ]
  },
  {
   "cell_type": "markdown",
   "metadata": {},
   "source": [
    "## Búsqueda de primarios sin interacción\n",
    "\n",
    "La idea entonces es ubicar los primarios que llegaron sin interactuar y aquellos cuyo punto de\n",
    "interacción es muy cercano al punto de observación.\n",
    "\n",
    "    -> E=100 GeV se hallaron 3 eventos.\n",
    "    -> E=1000 GeV se hallaron 5 eventos."
   ]
  },
  {
   "cell_type": "markdown",
   "metadata": {},
   "source": [
    "###  Protones que llegan sin interactuar -> 100 GeV"
   ]
  },
  {
   "cell_type": "code",
   "execution_count": 110,
   "metadata": {},
   "outputs": [
    {
     "data": {
      "text/html": [
       "<div>\n",
       "<style scoped>\n",
       "    .dataframe tbody tr th:only-of-type {\n",
       "        vertical-align: middle;\n",
       "    }\n",
       "\n",
       "    .dataframe tbody tr th {\n",
       "        vertical-align: top;\n",
       "    }\n",
       "\n",
       "    .dataframe thead th {\n",
       "        text-align: right;\n",
       "    }\n",
       "</style>\n",
       "<table border=\"1\" class=\"dataframe\">\n",
       "  <thead>\n",
       "    <tr style=\"text-align: right;\">\n",
       "      <th></th>\n",
       "      <th>prm_Crk_id</th>\n",
       "      <th>prm_energy</th>\n",
       "      <th>prm_x0</th>\n",
       "      <th>prm_theta</th>\n",
       "      <th>prm_phi</th>\n",
       "      <th>ph_obs_lev</th>\n",
       "      <th>el_obs_lev</th>\n",
       "      <th>hd_obs_lev</th>\n",
       "      <th>mu_obs_lev</th>\n",
       "      <th>tot_obs_lev</th>\n",
       "    </tr>\n",
       "  </thead>\n",
       "  <tbody>\n",
       "    <tr>\n",
       "      <th>64</th>\n",
       "      <td>14</td>\n",
       "      <td>100.0</td>\n",
       "      <td>-5.10000</td>\n",
       "      <td>0.0</td>\n",
       "      <td>0.0</td>\n",
       "      <td>0.0</td>\n",
       "      <td>0.0</td>\n",
       "      <td>1.0</td>\n",
       "      <td>0.0</td>\n",
       "      <td>1.0</td>\n",
       "    </tr>\n",
       "    <tr>\n",
       "      <th>91</th>\n",
       "      <td>14</td>\n",
       "      <td>100.0</td>\n",
       "      <td>-5.10000</td>\n",
       "      <td>0.0</td>\n",
       "      <td>0.0</td>\n",
       "      <td>0.0</td>\n",
       "      <td>0.0</td>\n",
       "      <td>1.0</td>\n",
       "      <td>0.0</td>\n",
       "      <td>1.0</td>\n",
       "    </tr>\n",
       "    <tr>\n",
       "      <th>565</th>\n",
       "      <td>14</td>\n",
       "      <td>100.0</td>\n",
       "      <td>-5.75528</td>\n",
       "      <td>0.0</td>\n",
       "      <td>0.0</td>\n",
       "      <td>132.0</td>\n",
       "      <td>30.0</td>\n",
       "      <td>4.0</td>\n",
       "      <td>8.0</td>\n",
       "      <td>174.0</td>\n",
       "    </tr>\n",
       "  </tbody>\n",
       "</table>\n",
       "</div>"
      ],
      "text/plain": [
       "     prm_Crk_id  prm_energy   prm_x0  prm_theta  prm_phi  ph_obs_lev  \\\n",
       "64           14       100.0 -5.10000        0.0      0.0         0.0   \n",
       "91           14       100.0 -5.10000        0.0      0.0         0.0   \n",
       "565          14       100.0 -5.75528        0.0      0.0       132.0   \n",
       "\n",
       "     el_obs_lev  hd_obs_lev  mu_obs_lev  tot_obs_lev  \n",
       "64          0.0         1.0         0.0          1.0  \n",
       "91          0.0         1.0         0.0          1.0  \n",
       "565        30.0         4.0         8.0        174.0  "
      ]
     },
     "execution_count": 110,
     "metadata": {},
     "output_type": "execute_result"
    }
   ],
   "source": [
    "df100_ = df100[-df100[\"prm_x0\"]<6]\n",
    "df100_.head()"
   ]
  },
  {
   "cell_type": "code",
   "execution_count": 111,
   "metadata": {},
   "outputs": [
    {
     "name": "stderr",
     "output_type": "stream",
     "text": [
      "/home/csarmiento/.local/lib/python3.6/site-packages/IPython/core/interactiveshell.py:3049: DtypeWarning: Columns (0,1,3,4,5,7,8,10) have mixed types.Specify dtype option on import or set low_memory=False.\n",
      "  interactivity=interactivity, compiler=compiler, result=result)\n"
     ]
    },
    {
     "data": {
      "text/html": [
       "<div>\n",
       "<style scoped>\n",
       "    .dataframe tbody tr th:only-of-type {\n",
       "        vertical-align: middle;\n",
       "    }\n",
       "\n",
       "    .dataframe tbody tr th {\n",
       "        vertical-align: top;\n",
       "    }\n",
       "\n",
       "    .dataframe thead th {\n",
       "        text-align: right;\n",
       "    }\n",
       "</style>\n",
       "<table border=\"1\" class=\"dataframe\">\n",
       "  <thead>\n",
       "    <tr style=\"text-align: right;\">\n",
       "      <th></th>\n",
       "      <th>CorsikaId</th>\n",
       "      <th>px</th>\n",
       "      <th>py</th>\n",
       "      <th>pz</th>\n",
       "      <th>x</th>\n",
       "      <th>y</th>\n",
       "      <th>t</th>\n",
       "      <th>shower_id</th>\n",
       "      <th>prm_id</th>\n",
       "      <th>prm_energy</th>\n",
       "      <th>prm_theta</th>\n",
       "      <th>prm_phi</th>\n",
       "    </tr>\n",
       "  </thead>\n",
       "  <tbody>\n",
       "    <tr>\n",
       "      <th>0</th>\n",
       "      <td>2</td>\n",
       "      <td>0.00589323</td>\n",
       "      <td>-0.001657</td>\n",
       "      <td>0.0164038</td>\n",
       "      <td>220792</td>\n",
       "      <td>-125047</td>\n",
       "      <td>371978.0</td>\n",
       "      <td>1</td>\n",
       "      <td>14</td>\n",
       "      <td>100.0</td>\n",
       "      <td>0</td>\n",
       "      <td>0.0</td>\n",
       "    </tr>\n",
       "    <tr>\n",
       "      <th>1</th>\n",
       "      <td>1</td>\n",
       "      <td>-6.83472e-05</td>\n",
       "      <td>0.000900</td>\n",
       "      <td>0.000765967</td>\n",
       "      <td>211448</td>\n",
       "      <td>-98228.8</td>\n",
       "      <td>372349.0</td>\n",
       "      <td>1</td>\n",
       "      <td>14</td>\n",
       "      <td>100.0</td>\n",
       "      <td>0</td>\n",
       "      <td>0.0</td>\n",
       "    </tr>\n",
       "    <tr>\n",
       "      <th>2</th>\n",
       "      <td>1</td>\n",
       "      <td>0.000317792</td>\n",
       "      <td>-0.000080</td>\n",
       "      <td>0.000205408</td>\n",
       "      <td>220454</td>\n",
       "      <td>-129904</td>\n",
       "      <td>372000.0</td>\n",
       "      <td>1</td>\n",
       "      <td>14</td>\n",
       "      <td>100.0</td>\n",
       "      <td>0</td>\n",
       "      <td>0.0</td>\n",
       "    </tr>\n",
       "    <tr>\n",
       "      <th>3</th>\n",
       "      <td>1</td>\n",
       "      <td>0.00339798</td>\n",
       "      <td>-0.001021</td>\n",
       "      <td>0.00872659</td>\n",
       "      <td>218563</td>\n",
       "      <td>-128081</td>\n",
       "      <td>371950.0</td>\n",
       "      <td>1</td>\n",
       "      <td>14</td>\n",
       "      <td>100.0</td>\n",
       "      <td>0</td>\n",
       "      <td>0.0</td>\n",
       "    </tr>\n",
       "    <tr>\n",
       "      <th>4</th>\n",
       "      <td>1</td>\n",
       "      <td>0.000169758</td>\n",
       "      <td>-0.000055</td>\n",
       "      <td>0.00045778</td>\n",
       "      <td>218481</td>\n",
       "      <td>-128102</td>\n",
       "      <td>371949.0</td>\n",
       "      <td>1</td>\n",
       "      <td>14</td>\n",
       "      <td>100.0</td>\n",
       "      <td>0</td>\n",
       "      <td>0.0</td>\n",
       "    </tr>\n",
       "  </tbody>\n",
       "</table>\n",
       "</div>"
      ],
      "text/plain": [
       "  CorsikaId           px        py           pz       x        y         t  \\\n",
       "0         2   0.00589323 -0.001657    0.0164038  220792  -125047  371978.0   \n",
       "1         1 -6.83472e-05  0.000900  0.000765967  211448 -98228.8  372349.0   \n",
       "2         1  0.000317792 -0.000080  0.000205408  220454  -129904  372000.0   \n",
       "3         1   0.00339798 -0.001021   0.00872659  218563  -128081  371950.0   \n",
       "4         1  0.000169758 -0.000055   0.00045778  218481  -128102  371949.0   \n",
       "\n",
       "  shower_id prm_id  prm_energy prm_theta  prm_phi  \n",
       "0         1     14       100.0         0      0.0  \n",
       "1         1     14       100.0         0      0.0  \n",
       "2         1     14       100.0         0      0.0  \n",
       "3         1     14       100.0         0      0.0  \n",
       "4         1     14       100.0         0      0.0  "
      ]
     },
     "execution_count": 111,
     "metadata": {},
     "output_type": "execute_result"
    }
   ],
   "source": [
    "ds100= pd.read_csv(r\"rbm_100GeV_P/910000.sec\", delimiter=\" \")\n",
    "ds100.head()"
   ]
  },
  {
   "cell_type": "code",
   "execution_count": 112,
   "metadata": {},
   "outputs": [
    {
     "name": "stdout",
     "output_type": "stream",
     "text": [
      "<class 'pandas.core.frame.DataFrame'>\n",
      "RangeIndex: 122170 entries, 0 to 122169\n",
      "Data columns (total 12 columns):\n",
      " #   Column      Non-Null Count   Dtype  \n",
      "---  ------      --------------   -----  \n",
      " 0   CorsikaId   122170 non-null  object \n",
      " 1   px          122170 non-null  object \n",
      " 2   py          122170 non-null  float64\n",
      " 3   pz          122170 non-null  object \n",
      " 4   x           122170 non-null  object \n",
      " 5   y           122170 non-null  object \n",
      " 6   t           122170 non-null  float64\n",
      " 7   shower_id   122170 non-null  object \n",
      " 8   prm_id      122170 non-null  object \n",
      " 9   prm_energy  122170 non-null  float64\n",
      " 10  prm_theta   122170 non-null  object \n",
      " 11  prm_phi     122169 non-null  float64\n",
      "dtypes: float64(4), object(8)\n",
      "memory usage: 11.2+ MB\n"
     ]
    }
   ],
   "source": [
    "ds100.info()"
   ]
  },
  {
   "cell_type": "code",
   "execution_count": 115,
   "metadata": {},
   "outputs": [],
   "source": [
    "#Conversión de string a float de algunas variables\n",
    "#\n",
    "ds100['CorsikaId'] = pd.to_numeric(ds100['CorsikaId'],errors='coerce')\n",
    "ds100['shower_id'] = pd.to_numeric(ds100['shower_id'],errors='coerce')\n",
    "ds100['x'] = pd.to_numeric(ds100['x'],errors='coerce')\n",
    "ds100['y'] = pd.to_numeric(ds100['y'],errors='coerce')\n",
    "\n",
    "ds100['px'] = pd.to_numeric(ds100['px'],errors='coerce')\n",
    "ds100['py'] = pd.to_numeric(ds100['py'],errors='coerce')\n",
    "ds100['pz'] = pd.to_numeric(ds100['pz'],errors='coerce')\n",
    "\n",
    "ds100['x'] = ds100['x']/100\n",
    "ds100['y'] = ds100['y']/100"
   ]
  },
  {
   "cell_type": "code",
   "execution_count": 116,
   "metadata": {},
   "outputs": [
    {
     "data": {
      "text/html": [
       "<div>\n",
       "<style scoped>\n",
       "    .dataframe tbody tr th:only-of-type {\n",
       "        vertical-align: middle;\n",
       "    }\n",
       "\n",
       "    .dataframe tbody tr th {\n",
       "        vertical-align: top;\n",
       "    }\n",
       "\n",
       "    .dataframe thead th {\n",
       "        text-align: right;\n",
       "    }\n",
       "</style>\n",
       "<table border=\"1\" class=\"dataframe\">\n",
       "  <thead>\n",
       "    <tr style=\"text-align: right;\">\n",
       "      <th></th>\n",
       "      <th>CorsikaId</th>\n",
       "      <th>px</th>\n",
       "      <th>py</th>\n",
       "      <th>pz</th>\n",
       "      <th>x</th>\n",
       "      <th>y</th>\n",
       "      <th>t</th>\n",
       "      <th>shower_id</th>\n",
       "      <th>prm_id</th>\n",
       "      <th>prm_energy</th>\n",
       "      <th>prm_theta</th>\n",
       "      <th>prm_phi</th>\n",
       "    </tr>\n",
       "  </thead>\n",
       "  <tbody>\n",
       "    <tr>\n",
       "      <th>67195</th>\n",
       "      <td>13.0</td>\n",
       "      <td>1.386160</td>\n",
       "      <td>0.344554</td>\n",
       "      <td>3.367680</td>\n",
       "      <td>260.8010</td>\n",
       "      <td>-428.987</td>\n",
       "      <td>370851.0</td>\n",
       "      <td>566.0</td>\n",
       "      <td>0014</td>\n",
       "      <td>100.0</td>\n",
       "      <td>+00.000</td>\n",
       "      <td>0.0</td>\n",
       "    </tr>\n",
       "    <tr>\n",
       "      <th>67196</th>\n",
       "      <td>6.0</td>\n",
       "      <td>0.217554</td>\n",
       "      <td>0.081417</td>\n",
       "      <td>3.458890</td>\n",
       "      <td>41.0502</td>\n",
       "      <td>-471.071</td>\n",
       "      <td>370606.0</td>\n",
       "      <td>566.0</td>\n",
       "      <td>0014</td>\n",
       "      <td>100.0</td>\n",
       "      <td>+00.000</td>\n",
       "      <td>0.0</td>\n",
       "    </tr>\n",
       "    <tr>\n",
       "      <th>67197</th>\n",
       "      <td>5.0</td>\n",
       "      <td>-0.332559</td>\n",
       "      <td>-0.210466</td>\n",
       "      <td>0.920977</td>\n",
       "      <td>-234.2130</td>\n",
       "      <td>-628.458</td>\n",
       "      <td>370796.0</td>\n",
       "      <td>566.0</td>\n",
       "      <td>0014</td>\n",
       "      <td>100.0</td>\n",
       "      <td>+00.000</td>\n",
       "      <td>0.0</td>\n",
       "    </tr>\n",
       "    <tr>\n",
       "      <th>67198</th>\n",
       "      <td>1.0</td>\n",
       "      <td>-0.000104</td>\n",
       "      <td>0.001114</td>\n",
       "      <td>0.000513</td>\n",
       "      <td>-144.4820</td>\n",
       "      <td>-344.340</td>\n",
       "      <td>371229.0</td>\n",
       "      <td>566.0</td>\n",
       "      <td>0014</td>\n",
       "      <td>100.0</td>\n",
       "      <td>+00.000</td>\n",
       "      <td>0.0</td>\n",
       "    </tr>\n",
       "    <tr>\n",
       "      <th>67199</th>\n",
       "      <td>13.0</td>\n",
       "      <td>0.089547</td>\n",
       "      <td>0.014075</td>\n",
       "      <td>1.019910</td>\n",
       "      <td>20.4339</td>\n",
       "      <td>-493.930</td>\n",
       "      <td>371046.0</td>\n",
       "      <td>566.0</td>\n",
       "      <td>0014</td>\n",
       "      <td>100.0</td>\n",
       "      <td>+00.000</td>\n",
       "      <td>0.0</td>\n",
       "    </tr>\n",
       "  </tbody>\n",
       "</table>\n",
       "</div>"
      ],
      "text/plain": [
       "       CorsikaId        px        py        pz         x        y         t  \\\n",
       "67195       13.0  1.386160  0.344554  3.367680  260.8010 -428.987  370851.0   \n",
       "67196        6.0  0.217554  0.081417  3.458890   41.0502 -471.071  370606.0   \n",
       "67197        5.0 -0.332559 -0.210466  0.920977 -234.2130 -628.458  370796.0   \n",
       "67198        1.0 -0.000104  0.001114  0.000513 -144.4820 -344.340  371229.0   \n",
       "67199       13.0  0.089547  0.014075  1.019910   20.4339 -493.930  371046.0   \n",
       "\n",
       "       shower_id prm_id  prm_energy prm_theta  prm_phi  \n",
       "67195      566.0   0014       100.0   +00.000      0.0  \n",
       "67196      566.0   0014       100.0   +00.000      0.0  \n",
       "67197      566.0   0014       100.0   +00.000      0.0  \n",
       "67198      566.0   0014       100.0   +00.000      0.0  \n",
       "67199      566.0   0014       100.0   +00.000      0.0  "
      ]
     },
     "execution_count": 116,
     "metadata": {},
     "output_type": "execute_result"
    }
   ],
   "source": [
    "ds100_ = ds100[ds100[\"shower_id\"]==566]\n",
    "ds100_.head()"
   ]
  },
  {
   "cell_type": "code",
   "execution_count": 117,
   "metadata": {},
   "outputs": [
    {
     "name": "stdout",
     "output_type": "stream",
     "text": [
      "<class 'pandas.core.frame.DataFrame'>\n",
      "Int64Index: 174 entries, 67195 to 67368\n",
      "Data columns (total 12 columns):\n",
      " #   Column      Non-Null Count  Dtype  \n",
      "---  ------      --------------  -----  \n",
      " 0   CorsikaId   174 non-null    float64\n",
      " 1   px          174 non-null    float64\n",
      " 2   py          174 non-null    float64\n",
      " 3   pz          174 non-null    float64\n",
      " 4   x           174 non-null    float64\n",
      " 5   y           174 non-null    float64\n",
      " 6   t           174 non-null    float64\n",
      " 7   shower_id   174 non-null    float64\n",
      " 8   prm_id      174 non-null    object \n",
      " 9   prm_energy  174 non-null    float64\n",
      " 10  prm_theta   174 non-null    object \n",
      " 11  prm_phi     174 non-null    float64\n",
      "dtypes: float64(10), object(2)\n",
      "memory usage: 17.7+ KB\n"
     ]
    }
   ],
   "source": [
    "ds100_.info()"
   ]
  },
  {
   "cell_type": "code",
   "execution_count": 118,
   "metadata": {},
   "outputs": [],
   "source": [
    "E100 = np.sqrt(ds100_[\"px\"]**2 + ds100_[\"py\"]**2 + ds100_[\"pz\"]**2)"
   ]
  },
  {
   "cell_type": "code",
   "execution_count": 122,
   "metadata": {},
   "outputs": [
    {
     "data": {
      "text/plain": [
       "<matplotlib.legend.Legend at 0x7ffa47de4080>"
      ]
     },
     "execution_count": 122,
     "metadata": {},
     "output_type": "execute_result"
    },
    {
     "data": {
      "image/png": "[encoded data removed]",
      "text/plain": [
       "<Figure size 720x504 with 2 Axes>"
      ]
     },
     "metadata": {
      "needs_background": "light"
     },
     "output_type": "display_data"
    }
   ],
   "source": [
    "ds100_.plot(kind=\"scatter\", x=\"x\", y=\"y\", alpha=0.7,\n",
    "    s=E100*20, label=\"Energia\", figsize=(10,7),\n",
    "    c=\"CorsikaId\", cmap=plt.get_cmap(\"jet\"), colorbar=True,\n",
    "    sharex=False)\n",
    "plt.xlabel(\"X, m\")\n",
    "plt.ylabel(\"Y, m\")\n",
    "plt.xlim(-300, 300)\n",
    "plt.ylim(-700, 0)\n",
    "plt.title(\"pto primera interacción 5755 m s.n.m\")\n",
    "plt.legend()"
   ]
  },
  {
   "cell_type": "code",
   "execution_count": 123,
   "metadata": {},
   "outputs": [],
   "source": [
    "ds100_32 = ds100[ds100[\"shower_id\"]==8]\n",
    "E32 = np.sqrt(ds100_32[\"px\"]**2 + ds100_32[\"py\"]**2 + ds100_32[\"pz\"]**2)"
   ]
  },
  {
   "cell_type": "code",
   "execution_count": 124,
   "metadata": {},
   "outputs": [
    {
     "data": {
      "text/html": [
       "<div>\n",
       "<style scoped>\n",
       "    .dataframe tbody tr th:only-of-type {\n",
       "        vertical-align: middle;\n",
       "    }\n",
       "\n",
       "    .dataframe tbody tr th {\n",
       "        vertical-align: top;\n",
       "    }\n",
       "\n",
       "    .dataframe thead th {\n",
       "        text-align: right;\n",
       "    }\n",
       "</style>\n",
       "<table border=\"1\" class=\"dataframe\">\n",
       "  <thead>\n",
       "    <tr style=\"text-align: right;\">\n",
       "      <th></th>\n",
       "      <th>CorsikaId</th>\n",
       "      <th>px</th>\n",
       "      <th>py</th>\n",
       "      <th>pz</th>\n",
       "      <th>x</th>\n",
       "      <th>y</th>\n",
       "      <th>t</th>\n",
       "      <th>shower_id</th>\n",
       "      <th>prm_id</th>\n",
       "      <th>prm_energy</th>\n",
       "      <th>prm_theta</th>\n",
       "      <th>prm_phi</th>\n",
       "    </tr>\n",
       "  </thead>\n",
       "  <tbody>\n",
       "    <tr>\n",
       "      <th>636</th>\n",
       "      <td>1.0</td>\n",
       "      <td>0.000036</td>\n",
       "      <td>-0.000077</td>\n",
       "      <td>0.000078</td>\n",
       "      <td>508.719</td>\n",
       "      <td>-1315.8500</td>\n",
       "      <td>371431.0</td>\n",
       "      <td>8.0</td>\n",
       "      <td>14</td>\n",
       "      <td>100.0</td>\n",
       "      <td>0</td>\n",
       "      <td>0.0</td>\n",
       "    </tr>\n",
       "    <tr>\n",
       "      <th>637</th>\n",
       "      <td>5.0</td>\n",
       "      <td>0.197766</td>\n",
       "      <td>0.154900</td>\n",
       "      <td>3.467580</td>\n",
       "      <td>297.046</td>\n",
       "      <td>-53.9485</td>\n",
       "      <td>370665.0</td>\n",
       "      <td>8.0</td>\n",
       "      <td>14</td>\n",
       "      <td>100.0</td>\n",
       "      <td>0</td>\n",
       "      <td>0.0</td>\n",
       "    </tr>\n",
       "    <tr>\n",
       "      <th>638</th>\n",
       "      <td>6.0</td>\n",
       "      <td>0.456970</td>\n",
       "      <td>0.104988</td>\n",
       "      <td>0.809731</td>\n",
       "      <td>3812.580</td>\n",
       "      <td>917.8610</td>\n",
       "      <td>374138.0</td>\n",
       "      <td>8.0</td>\n",
       "      <td>14</td>\n",
       "      <td>100.0</td>\n",
       "      <td>0</td>\n",
       "      <td>0.0</td>\n",
       "    </tr>\n",
       "    <tr>\n",
       "      <th>639</th>\n",
       "      <td>13.0</td>\n",
       "      <td>0.143635</td>\n",
       "      <td>0.241672</td>\n",
       "      <td>0.303811</td>\n",
       "      <td>1684.820</td>\n",
       "      <td>1889.3600</td>\n",
       "      <td>384609.0</td>\n",
       "      <td>8.0</td>\n",
       "      <td>14</td>\n",
       "      <td>100.0</td>\n",
       "      <td>0</td>\n",
       "      <td>0.0</td>\n",
       "    </tr>\n",
       "    <tr>\n",
       "      <th>640</th>\n",
       "      <td>1.0</td>\n",
       "      <td>0.000015</td>\n",
       "      <td>0.001069</td>\n",
       "      <td>0.000385</td>\n",
       "      <td>-1271.910</td>\n",
       "      <td>410.5230</td>\n",
       "      <td>372623.0</td>\n",
       "      <td>8.0</td>\n",
       "      <td>14</td>\n",
       "      <td>100.0</td>\n",
       "      <td>0</td>\n",
       "      <td>0.0</td>\n",
       "    </tr>\n",
       "  </tbody>\n",
       "</table>\n",
       "</div>"
      ],
      "text/plain": [
       "     CorsikaId        px        py        pz         x          y         t  \\\n",
       "636        1.0  0.000036 -0.000077  0.000078   508.719 -1315.8500  371431.0   \n",
       "637        5.0  0.197766  0.154900  3.467580   297.046   -53.9485  370665.0   \n",
       "638        6.0  0.456970  0.104988  0.809731  3812.580   917.8610  374138.0   \n",
       "639       13.0  0.143635  0.241672  0.303811  1684.820  1889.3600  384609.0   \n",
       "640        1.0  0.000015  0.001069  0.000385 -1271.910   410.5230  372623.0   \n",
       "\n",
       "     shower_id prm_id  prm_energy prm_theta  prm_phi  \n",
       "636        8.0     14       100.0         0      0.0  \n",
       "637        8.0     14       100.0         0      0.0  \n",
       "638        8.0     14       100.0         0      0.0  \n",
       "639        8.0     14       100.0         0      0.0  \n",
       "640        8.0     14       100.0         0      0.0  "
      ]
     },
     "execution_count": 124,
     "metadata": {},
     "output_type": "execute_result"
    }
   ],
   "source": [
    "ds100_32.head()"
   ]
  },
  {
   "cell_type": "code",
   "execution_count": 127,
   "metadata": {},
   "outputs": [
    {
     "data": {
      "text/plain": [
       "<matplotlib.legend.Legend at 0x7ffa3ac8af28>"
      ]
     },
     "execution_count": 127,
     "metadata": {},
     "output_type": "execute_result"
    },
    {
     "data": {
      "image/png": "[encoded data removed]",
      "text/plain": [
       "<Figure size 720x504 with 2 Axes>"
      ]
     },
     "metadata": {
      "needs_background": "light"
     },
     "output_type": "display_data"
    }
   ],
   "source": [
    "ds100_32.plot(kind=\"scatter\", x=\"x\", y=\"y\", alpha=0.7,\n",
    "    s=E32*20, label=\"Energia\", figsize=(10,7),\n",
    "    c=\"CorsikaId\", cmap=plt.get_cmap(\"jet\"), colorbar=True,\n",
    "    sharex=False)\n",
    "plt.title(\"pto primera interacción 18651 m s.n.m\")\n",
    "plt.xlabel(\"X, m\")\n",
    "plt.ylabel(\"Y, m\")\n",
    "plt.xlim(-1000, 1000)\n",
    "plt.ylim(-2000, 1000)\n",
    "plt.legend()"
   ]
  },
  {
   "cell_type": "markdown",
   "metadata": {},
   "source": [
    "###  Protones que llegan sin interactuar -> 1000 GeV"
   ]
  },
  {
   "cell_type": "code",
   "execution_count": 128,
   "metadata": {},
   "outputs": [
    {
     "data": {
      "text/html": [
       "<div>\n",
       "<style scoped>\n",
       "    .dataframe tbody tr th:only-of-type {\n",
       "        vertical-align: middle;\n",
       "    }\n",
       "\n",
       "    .dataframe tbody tr th {\n",
       "        vertical-align: top;\n",
       "    }\n",
       "\n",
       "    .dataframe thead th {\n",
       "        text-align: right;\n",
       "    }\n",
       "</style>\n",
       "<table border=\"1\" class=\"dataframe\">\n",
       "  <thead>\n",
       "    <tr style=\"text-align: right;\">\n",
       "      <th></th>\n",
       "      <th>prm_Crk_id</th>\n",
       "      <th>prm_energy</th>\n",
       "      <th>prm_x0</th>\n",
       "      <th>prm_theta</th>\n",
       "      <th>prm_phi</th>\n",
       "      <th>ph_obs_lev</th>\n",
       "      <th>el_obs_lev</th>\n",
       "      <th>hd_obs_lev</th>\n",
       "      <th>mu_obs_lev</th>\n",
       "      <th>tot_obs_lev</th>\n",
       "    </tr>\n",
       "  </thead>\n",
       "  <tbody>\n",
       "    <tr>\n",
       "      <th>85</th>\n",
       "      <td>14</td>\n",
       "      <td>1000.0</td>\n",
       "      <td>-5.10000</td>\n",
       "      <td>0.0</td>\n",
       "      <td>0.0</td>\n",
       "      <td>0.0</td>\n",
       "      <td>0.0</td>\n",
       "      <td>1.0</td>\n",
       "      <td>0.0</td>\n",
       "      <td>1.0</td>\n",
       "    </tr>\n",
       "    <tr>\n",
       "      <th>318</th>\n",
       "      <td>14</td>\n",
       "      <td>1000.0</td>\n",
       "      <td>-5.39143</td>\n",
       "      <td>0.0</td>\n",
       "      <td>0.0</td>\n",
       "      <td>102.0</td>\n",
       "      <td>27.0</td>\n",
       "      <td>17.0</td>\n",
       "      <td>12.0</td>\n",
       "      <td>158.0</td>\n",
       "    </tr>\n",
       "    <tr>\n",
       "      <th>477</th>\n",
       "      <td>14</td>\n",
       "      <td>1000.0</td>\n",
       "      <td>-5.10000</td>\n",
       "      <td>0.0</td>\n",
       "      <td>0.0</td>\n",
       "      <td>0.0</td>\n",
       "      <td>0.0</td>\n",
       "      <td>1.0</td>\n",
       "      <td>0.0</td>\n",
       "      <td>1.0</td>\n",
       "    </tr>\n",
       "    <tr>\n",
       "      <th>556</th>\n",
       "      <td>14</td>\n",
       "      <td>1000.0</td>\n",
       "      <td>-5.10000</td>\n",
       "      <td>0.0</td>\n",
       "      <td>0.0</td>\n",
       "      <td>0.0</td>\n",
       "      <td>0.0</td>\n",
       "      <td>1.0</td>\n",
       "      <td>0.0</td>\n",
       "      <td>1.0</td>\n",
       "    </tr>\n",
       "    <tr>\n",
       "      <th>734</th>\n",
       "      <td>14</td>\n",
       "      <td>1000.0</td>\n",
       "      <td>-5.10000</td>\n",
       "      <td>0.0</td>\n",
       "      <td>0.0</td>\n",
       "      <td>0.0</td>\n",
       "      <td>0.0</td>\n",
       "      <td>1.0</td>\n",
       "      <td>0.0</td>\n",
       "      <td>1.0</td>\n",
       "    </tr>\n",
       "  </tbody>\n",
       "</table>\n",
       "</div>"
      ],
      "text/plain": [
       "     prm_Crk_id  prm_energy   prm_x0  prm_theta  prm_phi  ph_obs_lev  \\\n",
       "85           14      1000.0 -5.10000        0.0      0.0         0.0   \n",
       "318          14      1000.0 -5.39143        0.0      0.0       102.0   \n",
       "477          14      1000.0 -5.10000        0.0      0.0         0.0   \n",
       "556          14      1000.0 -5.10000        0.0      0.0         0.0   \n",
       "734          14      1000.0 -5.10000        0.0      0.0         0.0   \n",
       "\n",
       "     el_obs_lev  hd_obs_lev  mu_obs_lev  tot_obs_lev  \n",
       "85          0.0         1.0         0.0          1.0  \n",
       "318        27.0        17.0        12.0        158.0  \n",
       "477         0.0         1.0         0.0          1.0  \n",
       "556         0.0         1.0         0.0          1.0  \n",
       "734         0.0         1.0         0.0          1.0  "
      ]
     },
     "execution_count": 128,
     "metadata": {},
     "output_type": "execute_result"
    }
   ],
   "source": [
    "df1000_ = df1000[-df1000[\"prm_x0\"]<6]\n",
    "df1000_.head()"
   ]
  },
  {
   "cell_type": "code",
   "execution_count": 129,
   "metadata": {},
   "outputs": [
    {
     "data": {
      "text/plain": [
       "(5, 10)"
      ]
     },
     "execution_count": 129,
     "metadata": {},
     "output_type": "execute_result"
    }
   ],
   "source": [
    "df1000_.shape"
   ]
  },
  {
   "cell_type": "code",
   "execution_count": 130,
   "metadata": {},
   "outputs": [
    {
     "name": "stderr",
     "output_type": "stream",
     "text": [
      "/home/csarmiento/.local/lib/python3.6/site-packages/IPython/core/interactiveshell.py:3049: DtypeWarning: Columns (0,1,3,4,5,7,8,10) have mixed types.Specify dtype option on import or set low_memory=False.\n",
      "  interactivity=interactivity, compiler=compiler, result=result)\n"
     ]
    },
    {
     "data": {
      "text/html": [
       "<div>\n",
       "<style scoped>\n",
       "    .dataframe tbody tr th:only-of-type {\n",
       "        vertical-align: middle;\n",
       "    }\n",
       "\n",
       "    .dataframe tbody tr th {\n",
       "        vertical-align: top;\n",
       "    }\n",
       "\n",
       "    .dataframe thead th {\n",
       "        text-align: right;\n",
       "    }\n",
       "</style>\n",
       "<table border=\"1\" class=\"dataframe\">\n",
       "  <thead>\n",
       "    <tr style=\"text-align: right;\">\n",
       "      <th></th>\n",
       "      <th>CorsikaId</th>\n",
       "      <th>px</th>\n",
       "      <th>py</th>\n",
       "      <th>pz</th>\n",
       "      <th>x</th>\n",
       "      <th>y</th>\n",
       "      <th>t</th>\n",
       "      <th>shower_id</th>\n",
       "      <th>prm_id</th>\n",
       "      <th>prm_energy</th>\n",
       "      <th>prm_theta</th>\n",
       "      <th>prm_phi</th>\n",
       "    </tr>\n",
       "  </thead>\n",
       "  <tbody>\n",
       "    <tr>\n",
       "      <th>0</th>\n",
       "      <td>5</td>\n",
       "      <td>0.123531</td>\n",
       "      <td>0.063572</td>\n",
       "      <td>0.332881</td>\n",
       "      <td>142262</td>\n",
       "      <td>227589</td>\n",
       "      <td>373009.0</td>\n",
       "      <td>1</td>\n",
       "      <td>14</td>\n",
       "      <td>1000.0</td>\n",
       "      <td>0</td>\n",
       "      <td>0.0</td>\n",
       "    </tr>\n",
       "    <tr>\n",
       "      <th>1</th>\n",
       "      <td>1</td>\n",
       "      <td>0.000770182</td>\n",
       "      <td>0.000070</td>\n",
       "      <td>0.000412617</td>\n",
       "      <td>72091.4</td>\n",
       "      <td>146618</td>\n",
       "      <td>371300.0</td>\n",
       "      <td>1</td>\n",
       "      <td>14</td>\n",
       "      <td>1000.0</td>\n",
       "      <td>0</td>\n",
       "      <td>0.0</td>\n",
       "    </tr>\n",
       "    <tr>\n",
       "      <th>2</th>\n",
       "      <td>1</td>\n",
       "      <td>0.00402838</td>\n",
       "      <td>-0.002069</td>\n",
       "      <td>0.0598651</td>\n",
       "      <td>17282.2</td>\n",
       "      <td>33962.2</td>\n",
       "      <td>370622.0</td>\n",
       "      <td>1</td>\n",
       "      <td>14</td>\n",
       "      <td>1000.0</td>\n",
       "      <td>0</td>\n",
       "      <td>0.0</td>\n",
       "    </tr>\n",
       "    <tr>\n",
       "      <th>3</th>\n",
       "      <td>1</td>\n",
       "      <td>-0.000105908</td>\n",
       "      <td>-0.000119</td>\n",
       "      <td>0.00131341</td>\n",
       "      <td>97776.5</td>\n",
       "      <td>-69763.9</td>\n",
       "      <td>370871.0</td>\n",
       "      <td>1</td>\n",
       "      <td>14</td>\n",
       "      <td>1000.0</td>\n",
       "      <td>0</td>\n",
       "      <td>0.0</td>\n",
       "    </tr>\n",
       "    <tr>\n",
       "      <th>4</th>\n",
       "      <td>1</td>\n",
       "      <td>0.00327029</td>\n",
       "      <td>-0.002121</td>\n",
       "      <td>0.0127039</td>\n",
       "      <td>158611</td>\n",
       "      <td>-86836.4</td>\n",
       "      <td>371194.0</td>\n",
       "      <td>1</td>\n",
       "      <td>14</td>\n",
       "      <td>1000.0</td>\n",
       "      <td>0</td>\n",
       "      <td>0.0</td>\n",
       "    </tr>\n",
       "  </tbody>\n",
       "</table>\n",
       "</div>"
      ],
      "text/plain": [
       "  CorsikaId           px        py           pz        x        y         t  \\\n",
       "0         5     0.123531  0.063572     0.332881   142262   227589  373009.0   \n",
       "1         1  0.000770182  0.000070  0.000412617  72091.4   146618  371300.0   \n",
       "2         1   0.00402838 -0.002069    0.0598651  17282.2  33962.2  370622.0   \n",
       "3         1 -0.000105908 -0.000119   0.00131341  97776.5 -69763.9  370871.0   \n",
       "4         1   0.00327029 -0.002121    0.0127039   158611 -86836.4  371194.0   \n",
       "\n",
       "  shower_id prm_id  prm_energy prm_theta  prm_phi  \n",
       "0         1     14      1000.0         0      0.0  \n",
       "1         1     14      1000.0         0      0.0  \n",
       "2         1     14      1000.0         0      0.0  \n",
       "3         1     14      1000.0         0      0.0  \n",
       "4         1     14      1000.0         0      0.0  "
      ]
     },
     "execution_count": 130,
     "metadata": {},
     "output_type": "execute_result"
    }
   ],
   "source": [
    "ds1000= pd.read_csv(r\"rbm_1000GeV_P/999900.sec\", delimiter=\" \")\n",
    "ds1000.head()"
   ]
  },
  {
   "cell_type": "code",
   "execution_count": 131,
   "metadata": {},
   "outputs": [],
   "source": [
    "#Conversión de string a float de algunas variables\n",
    "#\n",
    "ds1000['CorsikaId'] = pd.to_numeric(ds1000['CorsikaId'],errors='coerce')\n",
    "ds1000['shower_id'] = pd.to_numeric(ds1000['shower_id'],errors='coerce')\n",
    "ds1000['x'] = pd.to_numeric(ds1000['x'],errors='coerce')\n",
    "ds1000['y'] = pd.to_numeric(ds1000['y'],errors='coerce')\n",
    "\n",
    "ds1000['px'] = pd.to_numeric(ds1000['px'],errors='coerce')\n",
    "ds1000['py'] = pd.to_numeric(ds1000['py'],errors='coerce')\n",
    "ds1000['pz'] = pd.to_numeric(ds1000['pz'],errors='coerce')\n",
    "\n",
    "ds1000['x'] = ds1000['x']/100\n",
    "ds1000['y'] = ds1000['y']/100"
   ]
  },
  {
   "cell_type": "code",
   "execution_count": 132,
   "metadata": {},
   "outputs": [],
   "source": [
    "ds1000_13 = ds1000[ds1000[\"shower_id\"]==319]\n",
    "E13 = np.sqrt(ds1000_13[\"px\"]**2 + ds1000_13[\"py\"]**2 + ds1000_13[\"pz\"]**2)"
   ]
  },
  {
   "cell_type": "code",
   "execution_count": 133,
   "metadata": {},
   "outputs": [
    {
     "data": {
      "text/plain": [
       "<matplotlib.legend.Legend at 0x7ffa47b269b0>"
      ]
     },
     "execution_count": 133,
     "metadata": {},
     "output_type": "execute_result"
    },
    {
     "data": {
      "image/png": "[encoded data removed]",
      "text/plain": [
       "<Figure size 720x504 with 2 Axes>"
      ]
     },
     "metadata": {
      "needs_background": "light"
     },
     "output_type": "display_data"
    }
   ],
   "source": [
    "ds1000_13.plot(kind=\"scatter\", x=\"x\", y=\"y\", alpha=0.7,\n",
    "    s=E13*5, label=\"Energia\", figsize=(10,7),\n",
    "    c=\"CorsikaId\", cmap=plt.get_cmap(\"jet\"), colorbar=True,\n",
    "    sharex=False)\n",
    "plt.title(\"pto primera interacción 5391 m s.n.m\")\n",
    "plt.xlabel(\"X, m\")\n",
    "plt.ylabel(\"Y, m\")\n",
    "plt.xlim(-200, 200)\n",
    "plt.ylim(-200, 200)\n",
    "plt.legend()"
   ]
  },
  {
   "cell_type": "code",
   "execution_count": 134,
   "metadata": {},
   "outputs": [
    {
     "data": {
      "text/plain": [
       "(-100.0, 0.0)"
      ]
     },
     "execution_count": 134,
     "metadata": {},
     "output_type": "execute_result"
    },
    {
     "data": {
      "image/png": "[encoded data removed]",
      "text/plain": [
       "<Figure size 432x288 with 1 Axes>"
      ]
     },
     "metadata": {
      "needs_background": "light"
     },
     "output_type": "display_data"
    }
   ],
   "source": [
    "ds1000_86 = ds1000[ds1000[\"shower_id\"]==86]\n",
    "plt.plot(ds1000_86[\"x\"], ds1000_86[\"y\"], 'o' )\n",
    "plt.title(\"pto primera interacción 5100 m s.n.m\")\n",
    "plt.xlabel(\"X, m\")\n",
    "plt.ylabel(\"Y, m\")\n",
    "plt.xlim(-1, 1)\n",
    "plt.ylim(-100, 0)"
   ]
  },
  {
   "cell_type": "code",
   "execution_count": 135,
   "metadata": {},
   "outputs": [
    {
     "data": {
      "text/html": [
       "<div>\n",
       "<style scoped>\n",
       "    .dataframe tbody tr th:only-of-type {\n",
       "        vertical-align: middle;\n",
       "    }\n",
       "\n",
       "    .dataframe tbody tr th {\n",
       "        vertical-align: top;\n",
       "    }\n",
       "\n",
       "    .dataframe thead th {\n",
       "        text-align: right;\n",
       "    }\n",
       "</style>\n",
       "<table border=\"1\" class=\"dataframe\">\n",
       "  <thead>\n",
       "    <tr style=\"text-align: right;\">\n",
       "      <th></th>\n",
       "      <th>CorsikaId</th>\n",
       "      <th>px</th>\n",
       "      <th>py</th>\n",
       "      <th>pz</th>\n",
       "      <th>x</th>\n",
       "      <th>y</th>\n",
       "      <th>t</th>\n",
       "      <th>shower_id</th>\n",
       "      <th>prm_id</th>\n",
       "      <th>prm_energy</th>\n",
       "      <th>prm_theta</th>\n",
       "      <th>prm_phi</th>\n",
       "    </tr>\n",
       "  </thead>\n",
       "  <tbody>\n",
       "    <tr>\n",
       "      <th>173358</th>\n",
       "      <td>14.0</td>\n",
       "      <td>0.000129</td>\n",
       "      <td>-0.893335</td>\n",
       "      <td>998.094</td>\n",
       "      <td>0.006801</td>\n",
       "      <td>-49.2844</td>\n",
       "      <td>370577.0</td>\n",
       "      <td>86.0</td>\n",
       "      <td>14</td>\n",
       "      <td>1000.0</td>\n",
       "      <td>0</td>\n",
       "      <td>0.0</td>\n",
       "    </tr>\n",
       "  </tbody>\n",
       "</table>\n",
       "</div>"
      ],
      "text/plain": [
       "        CorsikaId        px        py       pz         x        y         t  \\\n",
       "173358       14.0  0.000129 -0.893335  998.094  0.006801 -49.2844  370577.0   \n",
       "\n",
       "        shower_id prm_id  prm_energy prm_theta  prm_phi  \n",
       "173358       86.0     14      1000.0         0      0.0  "
      ]
     },
     "execution_count": 135,
     "metadata": {},
     "output_type": "execute_result"
    }
   ],
   "source": [
    "ds1000_86.head()"
   ]
  },
  {
   "cell_type": "code",
   "execution_count": null,
   "metadata": {},
   "outputs": [],
   "source": []
  }
 ],
 "metadata": {
  "kernelspec": {
   "display_name": "Python 3",
   "language": "python",
   "name": "python3"
  },
  "language_info": {
   "codemirror_mode": {
    "name": "ipython",
    "version": 3
   },
   "file_extension": ".py",
   "mimetype": "text/x-python",
   "name": "python",
   "nbconvert_exporter": "python",
   "pygments_lexer": "ipython3",
   "version": "3.6.9"
  }
 },
 "nbformat": 4,
 "nbformat_minor": 2
}
